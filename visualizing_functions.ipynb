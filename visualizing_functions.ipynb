{
 "cells": [
  {
   "cell_type": "markdown",
   "id": "9e5d6717",
   "metadata": {},
   "source": [
    "# Hello reader!"
   ]
  },
  {
   "cell_type": "markdown",
   "id": "e445bc27",
   "metadata": {},
   "source": [
    "You are here! It means you like the comics Mathemathyworld and Physictionary and you are consulting extra material through Patreon. Thank you!"
   ]
  },
  {
   "cell_type": "markdown",
   "id": "32e44ddc",
   "metadata": {},
   "source": [
    "Zoe is glad to welcome you on this learning journey!"
   ]
  },
  {
   "cell_type": "markdown",
   "id": "2f30f3a9",
   "metadata": {},
   "source": [
    "In the first episodes of these two comics Mia, Leo, Ren and Zoe have been talking about a linear mathematical model and how we can use it to describe the uniform rectilinear motion.\n",
    "This particular model is a function called line."
   ]
  },
  {
   "cell_type": "markdown",
   "id": "88b1e430",
   "metadata": {},
   "source": [
    "![Zoe](Header.png)"
   ]
  },
  {
   "cell_type": "markdown",
   "id": "f5a54f52",
   "metadata": {},
   "source": [
    "### The line\n",
    "\n",
    "In the equation of the line written above, y is the *dependent variable*, whose value changes with varying x. \n",
    "\n",
    "In fact given a certain x, then y will be equal to x multiplied by m and then plus q. \n",
    "\n",
    "Since m and q are constant parameters, then if we vary x also y will change. \n",
    "\n",
    "For this reason we call x the *independent variable*."
   ]
  },
  {
   "cell_type": "markdown",
   "id": "85401b30",
   "metadata": {},
   "source": [
    "### Let's make an example!"
   ]
  },
  {
   "cell_type": "markdown",
   "id": "8ee9cffa",
   "metadata": {},
   "source": [
    "#### Info: to evaluate the cells you can use the shift+return on your keyboard!"
   ]
  },
  {
   "cell_type": "markdown",
   "id": "736becf4",
   "metadata": {},
   "source": [
    "Let's choose the exmaple we read in the comics: m = 2 and q = 1. \n",
    "\n",
    "In Python we can define m and q and assign them thsose values simply through an equal sign:"
   ]
  },
  {
   "cell_type": "code",
   "execution_count": 8,
   "id": "063da775",
   "metadata": {},
   "outputs": [
    {
     "name": "stdout",
     "output_type": "stream",
     "text": [
      "m = 2 , q = 1\n"
     ]
    }
   ],
   "source": [
    "m = 2\n",
    "q = 1\n",
    "print('m =', m, ', q =', q)"
   ]
  },
  {
   "cell_type": "markdown",
   "id": "4eea7fea",
   "metadata": {},
   "source": [
    "Now we need to define our input (or independent) variable, x.\n",
    "\n",
    "We would like to observe how y changes when we vary x. So we want to assign x a certain amount of values.\n",
    "\n",
    "We can collect the values we assign to x into a collection of numbers. In Python we define it usign a vector, called *array*. The entries of this vector will be the values of x.\n",
    "\n",
    "We choose for x values between -2 and 3, running in steps of 1. We can automathize the creation of the vecor using a Python library called *numpy*. This library is a collection of functions dealing with numbers and their operations. \n",
    "\n",
    "Once imported the library, we call the function *arange* to create the above mentioned array."
   ]
  },
  {
   "cell_type": "code",
   "execution_count": 15,
   "id": "56598c30",
   "metadata": {},
   "outputs": [],
   "source": [
    "import numpy as np"
   ]
  },
  {
   "cell_type": "code",
   "execution_count": 16,
   "id": "6ccb8c26",
   "metadata": {},
   "outputs": [
    {
     "name": "stdout",
     "output_type": "stream",
     "text": [
      "x = [-2 -1  0  1  2  3]\n"
     ]
    }
   ],
   "source": [
    "# In np.arange(first_arg, second_arg, third_arg),\n",
    "# the first argumenti, first_arg, is the starting value,\n",
    "# the second argument, second_arg, is the ending value + 1\n",
    "# and the third argumenti, third_arg, is the step, the distance between consecutive entries.\n",
    "# Now we create x using np.arange and we print it!\n",
    "\n",
    "x = np.arange(-2, 4, 1)\n",
    "print('x =', x)"
   ]
  },
  {
   "cell_type": "markdown",
   "id": "ed30027e",
   "metadata": {},
   "source": [
    "Nice! We have our collection of input values. Now let's compute the output values using the equation of the line $y = 2x + 1$:"
   ]
  },
  {
   "cell_type": "code",
   "execution_count": 19,
   "id": "ad066f51",
   "metadata": {},
   "outputs": [
    {
     "name": "stdout",
     "output_type": "stream",
     "text": [
      "y = [-3 -1  1  3  5  7]\n"
     ]
    }
   ],
   "source": [
    "# Remember that m=2 and q=1. \n",
    "# You can try changing them and evaluate the following cells to see the changes!\n",
    "y = m*x + q\n",
    "print('y =', y)"
   ]
  },
  {
   "cell_type": "markdown",
   "id": "dd69315b",
   "metadata": {},
   "source": [
    "To summarize, we created out line using the following commands:"
   ]
  },
  {
   "cell_type": "markdown",
   "id": "c6f179ff",
   "metadata": {},
   "source": [
    "![Zoe2](HeaderSummary.png)"
   ]
  },
  {
   "cell_type": "markdown",
   "id": "30f5693b",
   "metadata": {},
   "source": [
    "### Now let's plot the line!"
   ]
  },
  {
   "cell_type": "markdown",
   "id": "bab5bf70",
   "metadata": {},
   "source": [
    "In order to plot the line, we need to call another Python libray, called *Matplotlib*, which deals with graphics.\n",
    "\n",
    "Then, we will call the function *plot* to plot the x and y arrays defined above."
   ]
  },
  {
   "cell_type": "code",
   "execution_count": 20,
   "id": "812d0cb3",
   "metadata": {},
   "outputs": [],
   "source": [
    "import matplotlib.pyplot as plt"
   ]
  },
  {
   "cell_type": "code",
   "execution_count": 53,
   "id": "10beb4bf",
   "metadata": {},
   "outputs": [
    {
     "data": {
      "image/png": "[encoded data removed]",
      "text/plain": [
       "<Figure size 864x648 with 1 Axes>"
      ]
     },
     "metadata": {
      "needs_background": "light"
     },
     "output_type": "display_data"
    }
   ],
   "source": [
    "# We create the canvas for the plot\n",
    "figure = plt.figure(figsize=(12, 9))\n",
    "\n",
    "# We call the function plot to draw x and y, and we choose the color and the width of the line\n",
    "plt.plot(x, y, color = 'dodgerblue', linewidth = 3)\n",
    "\n",
    "# We can also add the points, using the function scatter\n",
    "plt.scatter(x, y, color = 'dodgerblue', s=80)\n",
    "\n",
    "# We set the labels and their fontsize\n",
    "plt.xlabel('x', fontsize = 16)\n",
    "plt.ylabel('y', fontsize = 16)\n",
    "\n",
    "# We access to the axes and change the fontsize of ticks label \n",
    "ax = plt.gca()\n",
    "ax.tick_params(axis='both', labelsize=16)\n",
    "\n",
    "# We draw the Cartesian plane as a reference\n",
    "plt.axhline(0, linewidth=1, color='black', alpha = 0.5)\n",
    "plt.axvline(0, linewidth=1, color='black', alpha = 0.5)\n",
    "\n",
    "# We set the range on the axes\n",
    "plt.xlim(-2.5, 3.5)\n",
    "plt.ylim(-3.5, 8)\n",
    "\n",
    "plt.show()"
   ]
  },
  {
   "cell_type": "markdown",
   "id": "69233529",
   "metadata": {},
   "source": [
    "As an anticipation of the next lesson, we observe that q inidicates the point of intersection between the line and the y axis. This point has coordinate (0, 1):"
   ]
  },
  {
   "cell_type": "code",
   "execution_count": 55,
   "id": "44e27ef8",
   "metadata": {},
   "outputs": [
    {
     "data": {
      "image/png": "[encoded data removed]",
      "text/plain": [
       "<Figure size 864x648 with 1 Axes>"
      ]
     },
     "metadata": {
      "needs_background": "light"
     },
     "output_type": "display_data"
    }
   ],
   "source": [
    "# We create the canvas for the plot\n",
    "figure = plt.figure(figsize=(12, 9))\n",
    "\n",
    "# We call the function plot to draw x and y, and we choose the color and the width of the line\n",
    "plt.plot(x, y, color = 'dodgerblue', linewidth = 3)\n",
    "\n",
    "# We can also add the points, using the function scatter\n",
    "plt.scatter(x, y, color = 'dodgerblue', s=80)\n",
    "\n",
    "# We set the labels and their fontsize\n",
    "plt.xlabel('x', fontsize = 16)\n",
    "plt.ylabel('y', fontsize = 16)\n",
    "\n",
    "# We access to the axes and change the fontsize of ticks label \n",
    "ax = plt.gca()\n",
    "ax.tick_params(axis='both', labelsize=16)\n",
    "\n",
    "# We draw the Cartesian plane as a reference\n",
    "plt.axhline(0, linewidth=1, color='black', alpha = 0.5)\n",
    "plt.axvline(0, linewidth=1, color='black', alpha = 0.5)\n",
    "\n",
    "# We set the range on the axes\n",
    "plt.xlim(-2.5, 3.5)\n",
    "plt.ylim(-3.5, 8)\n",
    "\n",
    "# We add a line to highlight the intersection point between the function and the y axis\n",
    "plt.axhline(1, linewidth=1, color='magenta', alpha = 0.5)\n",
    "\n",
    "plt.show()"
   ]
  },
  {
   "cell_type": "markdown",
   "id": "9af97017",
   "metadata": {},
   "source": [
    "This is the end of this lesson! Thank you for reading it!\n",
    "\n",
    "If you wish, comment and share on these channels:\n",
    "\n",
    "[Physictionary](https://www.webtoons.com/en/challenge/physictionary/list?title_no=748139)\n",
    "\n",
    "[Mathemathyworld](https://www.webtoons.com/en/challenge/physictionary/list?title_no=748139)\n",
    "\n",
    "[Instagram](https://www.instagram.com/astrofederica24/?r=nametag)\n",
    "\n",
    "[Twitter](https://twitter.com/AstroFederica24)\n",
    "\n",
    "[Medium](https://medium.com/@AstroFederica)"
   ]
  },
  {
   "cell_type": "code",
   "execution_count": null,
   "id": "a85b4818",
   "metadata": {},
   "outputs": [],
   "source": []
  }
 ],
 "metadata": {
  "kernelspec": {
   "display_name": "Python 3 (ipykernel)",
   "language": "python",
   "name": "python3"
  },
  "language_info": {
   "codemirror_mode": {
    "name": "ipython",
    "version": 3
   },
   "file_extension": ".py",
   "mimetype": "text/x-python",
   "name": "python",
   "nbconvert_exporter": "python",
   "pygments_lexer": "ipython3",
   "version": "3.9.7"
  }
 },
 "nbformat": 4,
 "nbformat_minor": 5
}
